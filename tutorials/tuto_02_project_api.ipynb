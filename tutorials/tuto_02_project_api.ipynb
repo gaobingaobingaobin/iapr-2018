{
 "cells": [
  {
   "cell_type": "markdown",
   "metadata": {
    "collapsed": true
   },
   "source": [
    "# [IAPR 2018:][iapr2018] Project API tutorial\n",
    "\n",
    "[iapr2018]: https://github.com/LTS5/iapr-2018"
   ]
  },
  {
   "cell_type": "markdown",
   "metadata": {},
   "source": [
    "## General information\n",
    "\n",
    "You will find two identical setups (A and B) in the project room.\n",
    "They are composed of the arena, an EV3 robot, a computer and a webcam (connected via USB).\n",
    "Each computer has the same configuration and is able to automatically connect to a single EV3 robot (via Bluetooth).\n",
    "Login credentials are written on each computer (post-it).\n",
    "\n",
    "A dedicated Python environment, called `iapr-project`, is already installed.\n",
    "All the necessary packages for the project should be available.\n",
    "You can activate it from a terminal (`Ctrl` + `Alt` + `T`) with the following command:\n",
    "```\n",
    "source activate iapr-project\n",
    "```\n",
    "\n",
    "Both [PyCharm] and [Jupyter] are installed and can be used for the project.\n",
    "\n",
    "**Important:**\n",
    "Do not forget that the computers are shared.\n",
    "Hence, you should always delete your code before leaving the computer.\n",
    "\n",
    "[jupyter]: https://jupyter.org/\n",
    "[pycharm]: https://www.jetbrains.com/pycharm/"
   ]
  },
  {
   "cell_type": "markdown",
   "metadata": {},
   "source": [
    "## WebcamVideoStream interface\n",
    "The `WebcamVideoStream` interface provided in the `iapr` API will allow you to capture images of the image arena.\n",
    "Once instantiated, this interface will have a dedicated thread constantly acquiring the webcam stream.\n",
    "In order to get the most recent frame, just call the `read()` command."
   ]
  },
  {
   "cell_type": "code",
   "execution_count": null,
   "metadata": {},
   "outputs": [],
   "source": [
    "from iapr.webcam import WebcamVideoStream\n",
    "import matplotlib.pyplot as plt\n",
    "%matplotlib inline\n",
    "\n",
    "# Create a webcam video stream\n",
    "#   Note: src=0 links to the USB Webcam of the computers provided for the project\n",
    "wvs = WebcamVideoStream(src=0)\n",
    "\n",
    "# Read most recent frame\n",
    "frame = wvs.read()\n",
    "\n",
    "# Plot\n",
    "fig, ax = plt.subplots(1, 1, figsize=(6, 6))\n",
    "ax.imshow(frame)\n",
    "ax.axis('off')\n",
    "plt.show()"
   ]
  },
  {
   "cell_type": "markdown",
   "metadata": {},
   "source": [
    "Note that if you want to explicitly stop the thread and release the Webcam you can use the `stop()` and `release()` methods from the `WebcamVideoStream` interface."
   ]
  },
  {
   "cell_type": "markdown",
   "metadata": {},
   "source": [
    "## Robot control\n",
    "\n",
    "### SSH connection\n",
    "First, you need to connect the EV3 via SSH.\n",
    "Just open a terminal (`Ctrl` + `Alt` + `T`) and type the following command:\n",
    "```\n",
    "ssh ev3dev\n",
    "```\n",
    "Once connected you will see the following output:\n",
    "```\n",
    "             _____     _\n",
    "   _____   _|___ /  __| | _____   __\n",
    "  / _ \\ \\ / / |_ \\ / _` |/ _ \\ \\ / /\n",
    " |  __/\\ V / ___) | (_| |  __/\\ V /\n",
    "  \\___| \\_/ |____/ \\__,_|\\___| \\_/\n",
    "    \n",
    "Debian jessie on LEGO MINDSTORMS EV3!\n",
    "    \n",
    "The programs included with the Debian GNU/Linux system are free software;\n",
    "the exact distribution terms for each program are described in the\n",
    "individual files in /usr/share/doc/*/copyright.\n",
    "    \n",
    "Debian GNU/Linux comes with ABSOLUTELY NO WARRANTY, to the extent\n",
    "permitted by applicable law.\n",
    "```\n",
    "\n",
    "### RPyC server\n",
    "In order to control remotely the EV3, you need to launch an [RPyC] server.\n",
    "Once connected via SSH on the EV3 (see [SSH connection](#ssh-connection)) use the following command:\n",
    "```\n",
    "./rpyc_server.sh\n",
    "```\n",
    "It should output something like\n",
    "```\n",
    "INFO:SLAVE/18812:server started on [0.0.0.0]:18812\n",
    "```\n",
    "\n",
    "[rpyc]: https://rpyc.readthedocs.io/en/latest/\n",
    "\n",
    "### Robot interface\n",
    "The `Robot` interface provided in the `iapr` API will help you to control the EV3 remotely.\n",
    "This interface provides a few commands to control the EV3:\n",
    "* `move_forward(distance)` and `move_backward(distance)`:\n",
    "the `distance` argument has to be a `float` (in centimeters).\n",
    "* `steer_in_place(angle)`:\n",
    "the `angle` argument has to be a `float` (in degree).\n",
    "* `beep(count)`:\n",
    "the `count` agument has to be an `int` (default=1).\n",
    "\n",
    "**Important:**\n",
    "* The `distance` and `angle` arguments you will provide cannot be guaranteed!\n",
    "They are only approximations of the resulting movement.\n",
    "The actual movement highly depends on many physical parameters such as friction, sliding and instantaneous power.\n",
    "Hence, you should monitor the *true* position of the EV3 using the webcam.\n",
    "* The API is designed to work with the right motor connected to EV3 port A and the left motor connected to EV3 port D."
   ]
  },
  {
   "cell_type": "markdown",
   "metadata": {},
   "source": [
    "### Example 1: Create Robot instance and beep"
   ]
  },
  {
   "cell_type": "code",
   "execution_count": null,
   "metadata": {},
   "outputs": [],
   "source": [
    "from iapr.robot import Robot\n",
    "\n",
    "# Create Robot instance\n",
    "robot = Robot(hostname='ev3dev.local')\n",
    "\n",
    "# Beep\n",
    "robot.beep(count=1)"
   ]
  },
  {
   "cell_type": "markdown",
   "metadata": {},
   "source": [
    "### Example 2: Move Robot and beep"
   ]
  },
  {
   "cell_type": "code",
   "execution_count": null,
   "metadata": {},
   "outputs": [],
   "source": [
    "# Move forward\n",
    "distance = 15  # cm\n",
    "robot.move_forward(distance=distance)\n",
    "robot.beep(count=1)\n",
    "\n",
    "# Steer\n",
    "angle = 90  # deg\n",
    "robot.steer_in_place(angle=+angle)\n",
    "robot.steer_in_place(angle=-angle)\n",
    "robot.beep(count=2)\n",
    "\n",
    "# Move backward\n",
    "robot.move_backward(distance=distance)\n",
    "robot.beep(count=3)"
   ]
  },
  {
   "cell_type": "markdown",
   "metadata": {},
   "source": [
    "### Example 3: Move Robot and capture images"
   ]
  },
  {
   "cell_type": "code",
   "execution_count": null,
   "metadata": {},
   "outputs": [],
   "source": [
    "# Take initial position image and store in image list\n",
    "images = list()\n",
    "images.append(wvs.read())\n",
    "\n",
    "# Move forward\n",
    "distance = 30  # cm\n",
    "robot.move_forward(distance=distance)\n",
    "images.append(wvs.read())\n",
    "\n",
    "# Steer\n",
    "angle = 60  # deg\n",
    "robot.steer_in_place(angle=angle)\n",
    "images.append(wvs.read())\n",
    "\n",
    "# Move backward\n",
    "robot.move_backward(distance=distance)\n",
    "images.append(wvs.read())\n",
    "\n",
    "# Plot images\n",
    "fig, axes = plt.subplots(2, 2, figsize=(12, 12))\n",
    "for i, (ax, im) in enumerate(zip(axes.ravel(), images)):\n",
    "    ax.imshow(im)\n",
    "    ax.set_title('Position #{:d}'.format(i))\n",
    "    ax.axis('off')\n",
    "plt.show()"
   ]
  }
 ],
 "metadata": {
  "kernelspec": {
   "display_name": "Python 3",
   "language": "python",
   "name": "python3"
  },
  "language_info": {
   "codemirror_mode": {
    "name": "ipython",
    "version": 3
   },
   "file_extension": ".py",
   "mimetype": "text/x-python",
   "name": "python",
   "nbconvert_exporter": "python",
   "pygments_lexer": "ipython3",
   "version": "3.6.5"
  }
 },
 "nbformat": 4,
 "nbformat_minor": 1
}
